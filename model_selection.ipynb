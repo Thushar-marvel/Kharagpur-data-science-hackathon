{
 "cells": [
  {
   "cell_type": "code",
   "execution_count": 2,
   "id": "innocent-survey",
   "metadata": {},
   "outputs": [],
   "source": [
    "import pandas as pd\n",
    "import numpy as np\n",
    "import seaborn as sns\n",
    "import matplotlib.pyplot as plt"
   ]
  },
  {
   "cell_type": "markdown",
   "id": "asian-afternoon",
   "metadata": {},
   "source": [
    "# After data exploration"
   ]
  },
  {
   "cell_type": "code",
   "execution_count": 219,
   "id": "major-finland",
   "metadata": {},
   "outputs": [
    {
     "data": {
      "text/html": [
       "<div>\n",
       "<style scoped>\n",
       "    .dataframe tbody tr th:only-of-type {\n",
       "        vertical-align: middle;\n",
       "    }\n",
       "\n",
       "    .dataframe tbody tr th {\n",
       "        vertical-align: top;\n",
       "    }\n",
       "\n",
       "    .dataframe thead th {\n",
       "        text-align: right;\n",
       "    }\n",
       "</style>\n",
       "<table border=\"1\" class=\"dataframe\">\n",
       "  <thead>\n",
       "    <tr style=\"text-align: right;\">\n",
       "      <th></th>\n",
       "      <th>discount</th>\n",
       "      <th>price</th>\n",
       "      <th>no of items</th>\n",
       "      <th>location</th>\n",
       "      <th>class</th>\n",
       "      <th>segment</th>\n",
       "      <th>sub-class</th>\n",
       "      <th>profit</th>\n",
       "      <th>Delay</th>\n",
       "      <th>delivery type_Same Day</th>\n",
       "      <th>delivery type_Second Class</th>\n",
       "      <th>delivery type_Standard Class</th>\n",
       "    </tr>\n",
       "  </thead>\n",
       "  <tbody>\n",
       "    <tr>\n",
       "      <th>0</th>\n",
       "      <td>0.2</td>\n",
       "      <td>16.448</td>\n",
       "      <td>2</td>\n",
       "      <td>1</td>\n",
       "      <td>2</td>\n",
       "      <td>1</td>\n",
       "      <td>13</td>\n",
       "      <td>5.5512</td>\n",
       "      <td>0.0</td>\n",
       "      <td>0</td>\n",
       "      <td>0</td>\n",
       "      <td>1</td>\n",
       "    </tr>\n",
       "    <tr>\n",
       "      <th>1</th>\n",
       "      <td>0.0</td>\n",
       "      <td>29.700</td>\n",
       "      <td>5</td>\n",
       "      <td>1</td>\n",
       "      <td>2</td>\n",
       "      <td>1</td>\n",
       "      <td>14</td>\n",
       "      <td>13.3650</td>\n",
       "      <td>0.0</td>\n",
       "      <td>0</td>\n",
       "      <td>0</td>\n",
       "      <td>1</td>\n",
       "    </tr>\n",
       "    <tr>\n",
       "      <th>2</th>\n",
       "      <td>0.0</td>\n",
       "      <td>14.730</td>\n",
       "      <td>3</td>\n",
       "      <td>1</td>\n",
       "      <td>1</td>\n",
       "      <td>1</td>\n",
       "      <td>9</td>\n",
       "      <td>4.8609</td>\n",
       "      <td>0.0</td>\n",
       "      <td>0</td>\n",
       "      <td>0</td>\n",
       "      <td>1</td>\n",
       "    </tr>\n",
       "    <tr>\n",
       "      <th>3</th>\n",
       "      <td>0.0</td>\n",
       "      <td>43.920</td>\n",
       "      <td>3</td>\n",
       "      <td>1</td>\n",
       "      <td>2</td>\n",
       "      <td>1</td>\n",
       "      <td>6</td>\n",
       "      <td>12.7368</td>\n",
       "      <td>0.0</td>\n",
       "      <td>0</td>\n",
       "      <td>0</td>\n",
       "      <td>1</td>\n",
       "    </tr>\n",
       "    <tr>\n",
       "      <th>4</th>\n",
       "      <td>0.0</td>\n",
       "      <td>66.580</td>\n",
       "      <td>2</td>\n",
       "      <td>1</td>\n",
       "      <td>2</td>\n",
       "      <td>1</td>\n",
       "      <td>11</td>\n",
       "      <td>15.9792</td>\n",
       "      <td>0.0</td>\n",
       "      <td>0</td>\n",
       "      <td>0</td>\n",
       "      <td>1</td>\n",
       "    </tr>\n",
       "    <tr>\n",
       "      <th>...</th>\n",
       "      <td>...</td>\n",
       "      <td>...</td>\n",
       "      <td>...</td>\n",
       "      <td>...</td>\n",
       "      <td>...</td>\n",
       "      <td>...</td>\n",
       "      <td>...</td>\n",
       "      <td>...</td>\n",
       "      <td>...</td>\n",
       "      <td>...</td>\n",
       "      <td>...</td>\n",
       "      <td>...</td>\n",
       "    </tr>\n",
       "    <tr>\n",
       "      <th>6695</th>\n",
       "      <td>0.0</td>\n",
       "      <td>542.940</td>\n",
       "      <td>3</td>\n",
       "      <td>2</td>\n",
       "      <td>2</td>\n",
       "      <td>1</td>\n",
       "      <td>10</td>\n",
       "      <td>152.0232</td>\n",
       "      <td>0.0</td>\n",
       "      <td>0</td>\n",
       "      <td>0</td>\n",
       "      <td>1</td>\n",
       "    </tr>\n",
       "    <tr>\n",
       "      <th>6696</th>\n",
       "      <td>0.2</td>\n",
       "      <td>276.784</td>\n",
       "      <td>2</td>\n",
       "      <td>3</td>\n",
       "      <td>2</td>\n",
       "      <td>2</td>\n",
       "      <td>14</td>\n",
       "      <td>89.9548</td>\n",
       "      <td>0.0</td>\n",
       "      <td>0</td>\n",
       "      <td>0</td>\n",
       "      <td>1</td>\n",
       "    </tr>\n",
       "    <tr>\n",
       "      <th>6697</th>\n",
       "      <td>0.0</td>\n",
       "      <td>2.040</td>\n",
       "      <td>1</td>\n",
       "      <td>2</td>\n",
       "      <td>2</td>\n",
       "      <td>1</td>\n",
       "      <td>7</td>\n",
       "      <td>0.9588</td>\n",
       "      <td>0.0</td>\n",
       "      <td>0</td>\n",
       "      <td>0</td>\n",
       "      <td>1</td>\n",
       "    </tr>\n",
       "    <tr>\n",
       "      <th>6698</th>\n",
       "      <td>0.1</td>\n",
       "      <td>207.846</td>\n",
       "      <td>3</td>\n",
       "      <td>2</td>\n",
       "      <td>1</td>\n",
       "      <td>2</td>\n",
       "      <td>12</td>\n",
       "      <td>2.3094</td>\n",
       "      <td>0.0</td>\n",
       "      <td>0</td>\n",
       "      <td>1</td>\n",
       "      <td>0</td>\n",
       "    </tr>\n",
       "    <tr>\n",
       "      <th>6699</th>\n",
       "      <td>0.2</td>\n",
       "      <td>160.776</td>\n",
       "      <td>3</td>\n",
       "      <td>3</td>\n",
       "      <td>3</td>\n",
       "      <td>1</td>\n",
       "      <td>16</td>\n",
       "      <td>10.0485</td>\n",
       "      <td>0.0</td>\n",
       "      <td>0</td>\n",
       "      <td>0</td>\n",
       "      <td>1</td>\n",
       "    </tr>\n",
       "  </tbody>\n",
       "</table>\n",
       "<p>6700 rows × 12 columns</p>\n",
       "</div>"
      ],
      "text/plain": [
       "      discount    price  no of items  location  class  segment  sub-class  \\\n",
       "0          0.2   16.448            2         1      2        1         13   \n",
       "1          0.0   29.700            5         1      2        1         14   \n",
       "2          0.0   14.730            3         1      1        1          9   \n",
       "3          0.0   43.920            3         1      2        1          6   \n",
       "4          0.0   66.580            2         1      2        1         11   \n",
       "...        ...      ...          ...       ...    ...      ...        ...   \n",
       "6695       0.0  542.940            3         2      2        1         10   \n",
       "6696       0.2  276.784            2         3      2        2         14   \n",
       "6697       0.0    2.040            1         2      2        1          7   \n",
       "6698       0.1  207.846            3         2      1        2         12   \n",
       "6699       0.2  160.776            3         3      3        1         16   \n",
       "\n",
       "        profit  Delay  delivery type_Same Day  delivery type_Second Class  \\\n",
       "0       5.5512    0.0                       0                           0   \n",
       "1      13.3650    0.0                       0                           0   \n",
       "2       4.8609    0.0                       0                           0   \n",
       "3      12.7368    0.0                       0                           0   \n",
       "4      15.9792    0.0                       0                           0   \n",
       "...        ...    ...                     ...                         ...   \n",
       "6695  152.0232    0.0                       0                           0   \n",
       "6696   89.9548    0.0                       0                           0   \n",
       "6697    0.9588    0.0                       0                           0   \n",
       "6698    2.3094    0.0                       0                           1   \n",
       "6699   10.0485    0.0                       0                           0   \n",
       "\n",
       "      delivery type_Standard Class  \n",
       "0                                1  \n",
       "1                                1  \n",
       "2                                1  \n",
       "3                                1  \n",
       "4                                1  \n",
       "...                            ...  \n",
       "6695                             1  \n",
       "6696                             1  \n",
       "6697                             1  \n",
       "6698                             0  \n",
       "6699                             1  \n",
       "\n",
       "[6700 rows x 12 columns]"
      ]
     },
     "execution_count": 219,
     "metadata": {},
     "output_type": "execute_result"
    }
   ],
   "source": [
    "train_df"
   ]
  },
  {
   "cell_type": "code",
   "execution_count": 220,
   "id": "delayed-astronomy",
   "metadata": {},
   "outputs": [],
   "source": [
    "x=train_df.drop(\"profit\",axis=1)\n",
    "y=df[\"profit\"]"
   ]
  },
  {
   "cell_type": "code",
   "execution_count": 221,
   "id": "supreme-clark",
   "metadata": {},
   "outputs": [
    {
     "data": {
      "text/plain": [
       "0         5.5512\n",
       "1        13.3650\n",
       "2         4.8609\n",
       "3        12.7368\n",
       "4        15.9792\n",
       "          ...   \n",
       "6695    152.0232\n",
       "6696     89.9548\n",
       "6697      0.9588\n",
       "6698      2.3094\n",
       "6699     10.0485\n",
       "Name: profit, Length: 6700, dtype: float64"
      ]
     },
     "execution_count": 221,
     "metadata": {},
     "output_type": "execute_result"
    }
   ],
   "source": [
    "y"
   ]
  },
  {
   "cell_type": "code",
   "execution_count": 226,
   "id": "naughty-cabin",
   "metadata": {},
   "outputs": [],
   "source": [
    "from sklearn.model_selection import train_test_split\n",
    "from sklearn import preprocessing\n",
    "from sklearn.preprocessing import normalize"
   ]
  },
  {
   "cell_type": "code",
   "execution_count": 223,
   "id": "adaptive-christian",
   "metadata": {},
   "outputs": [],
   "source": [
    "x_train,x_test,y_train,y_test=train_test_split(x,y,test_size=0.2)"
   ]
  },
  {
   "cell_type": "code",
   "execution_count": 224,
   "id": "similar-sunrise",
   "metadata": {},
   "outputs": [],
   "source": [
    "scalar=preprocessing.StandardScaler()\n",
    "x_train_s=scalar.fit_transform(x_train)\n",
    "x_test_s=scalar.fit_transform(x_test)"
   ]
  },
  {
   "cell_type": "code",
   "execution_count": 227,
   "id": "hispanic-bacon",
   "metadata": {},
   "outputs": [],
   "source": [
    "min_max_scaler = preprocessing.MinMaxScaler()\n",
    "np_scaled = min_max_scaler.fit_transform(x_train)\n",
    "x_train_n = pd.DataFrame(np_scaled)\n",
    "\n",
    "min_max_scaler = preprocessing.MinMaxScaler()\n",
    "np_scaled = min_max_scaler.fit_transform(x_test)\n",
    "x_test_n = pd.DataFrame(np_scaled)\n"
   ]
  },
  {
   "cell_type": "code",
   "execution_count": 230,
   "id": "modular-kingston",
   "metadata": {},
   "outputs": [
    {
     "data": {
      "text/html": [
       "<div>\n",
       "<style scoped>\n",
       "    .dataframe tbody tr th:only-of-type {\n",
       "        vertical-align: middle;\n",
       "    }\n",
       "\n",
       "    .dataframe tbody tr th {\n",
       "        vertical-align: top;\n",
       "    }\n",
       "\n",
       "    .dataframe thead th {\n",
       "        text-align: right;\n",
       "    }\n",
       "</style>\n",
       "<table border=\"1\" class=\"dataframe\">\n",
       "  <thead>\n",
       "    <tr style=\"text-align: right;\">\n",
       "      <th></th>\n",
       "      <th>0</th>\n",
       "      <th>1</th>\n",
       "      <th>2</th>\n",
       "      <th>3</th>\n",
       "      <th>4</th>\n",
       "      <th>5</th>\n",
       "      <th>6</th>\n",
       "      <th>7</th>\n",
       "      <th>8</th>\n",
       "      <th>9</th>\n",
       "      <th>10</th>\n",
       "    </tr>\n",
       "  </thead>\n",
       "  <tbody>\n",
       "    <tr>\n",
       "      <th>0</th>\n",
       "      <td>3.124114</td>\n",
       "      <td>-0.333099</td>\n",
       "      <td>1.012023</td>\n",
       "      <td>-1.387203</td>\n",
       "      <td>0.049142</td>\n",
       "      <td>-0.852047</td>\n",
       "      <td>0.780114</td>\n",
       "      <td>-0.380145</td>\n",
       "      <td>-0.234772</td>\n",
       "      <td>-0.486259</td>\n",
       "      <td>0.796646</td>\n",
       "    </tr>\n",
       "    <tr>\n",
       "      <th>1</th>\n",
       "      <td>-0.750655</td>\n",
       "      <td>0.047153</td>\n",
       "      <td>0.105532</td>\n",
       "      <td>-0.402250</td>\n",
       "      <td>1.635894</td>\n",
       "      <td>-0.852047</td>\n",
       "      <td>1.260736</td>\n",
       "      <td>-0.380145</td>\n",
       "      <td>-0.234772</td>\n",
       "      <td>-0.486259</td>\n",
       "      <td>-1.255263</td>\n",
       "    </tr>\n",
       "    <tr>\n",
       "      <th>2</th>\n",
       "      <td>-0.750655</td>\n",
       "      <td>-0.340122</td>\n",
       "      <td>-0.800959</td>\n",
       "      <td>0.582702</td>\n",
       "      <td>0.049142</td>\n",
       "      <td>0.482935</td>\n",
       "      <td>0.539803</td>\n",
       "      <td>-0.380145</td>\n",
       "      <td>4.259443</td>\n",
       "      <td>-0.486259</td>\n",
       "      <td>-1.255263</td>\n",
       "    </tr>\n",
       "    <tr>\n",
       "      <th>3</th>\n",
       "      <td>0.702383</td>\n",
       "      <td>0.009155</td>\n",
       "      <td>-0.800959</td>\n",
       "      <td>-0.402250</td>\n",
       "      <td>-1.537610</td>\n",
       "      <td>-0.852047</td>\n",
       "      <td>-2.343928</td>\n",
       "      <td>-0.380145</td>\n",
       "      <td>-0.234772</td>\n",
       "      <td>-0.486259</td>\n",
       "      <td>0.796646</td>\n",
       "    </tr>\n",
       "    <tr>\n",
       "      <th>4</th>\n",
       "      <td>0.218037</td>\n",
       "      <td>-0.165925</td>\n",
       "      <td>-0.800959</td>\n",
       "      <td>-0.402250</td>\n",
       "      <td>0.049142</td>\n",
       "      <td>0.482935</td>\n",
       "      <td>0.059181</td>\n",
       "      <td>-0.380145</td>\n",
       "      <td>-0.234772</td>\n",
       "      <td>2.056518</td>\n",
       "      <td>-1.255263</td>\n",
       "    </tr>\n",
       "    <tr>\n",
       "      <th>...</th>\n",
       "      <td>...</td>\n",
       "      <td>...</td>\n",
       "      <td>...</td>\n",
       "      <td>...</td>\n",
       "      <td>...</td>\n",
       "      <td>...</td>\n",
       "      <td>...</td>\n",
       "      <td>...</td>\n",
       "      <td>...</td>\n",
       "      <td>...</td>\n",
       "      <td>...</td>\n",
       "    </tr>\n",
       "    <tr>\n",
       "      <th>5355</th>\n",
       "      <td>0.218037</td>\n",
       "      <td>-0.346859</td>\n",
       "      <td>-0.347714</td>\n",
       "      <td>1.567655</td>\n",
       "      <td>0.049142</td>\n",
       "      <td>0.482935</td>\n",
       "      <td>-1.382684</td>\n",
       "      <td>-0.380145</td>\n",
       "      <td>-0.234772</td>\n",
       "      <td>-0.486259</td>\n",
       "      <td>0.796646</td>\n",
       "    </tr>\n",
       "    <tr>\n",
       "      <th>5356</th>\n",
       "      <td>0.218037</td>\n",
       "      <td>-0.340356</td>\n",
       "      <td>-1.254205</td>\n",
       "      <td>0.582702</td>\n",
       "      <td>0.049142</td>\n",
       "      <td>-0.852047</td>\n",
       "      <td>0.780114</td>\n",
       "      <td>-0.380145</td>\n",
       "      <td>-0.234772</td>\n",
       "      <td>-0.486259</td>\n",
       "      <td>0.796646</td>\n",
       "    </tr>\n",
       "    <tr>\n",
       "      <th>5357</th>\n",
       "      <td>-0.750655</td>\n",
       "      <td>-0.305999</td>\n",
       "      <td>-1.254205</td>\n",
       "      <td>0.582702</td>\n",
       "      <td>0.049142</td>\n",
       "      <td>-0.852047</td>\n",
       "      <td>0.539803</td>\n",
       "      <td>-0.380145</td>\n",
       "      <td>-0.234772</td>\n",
       "      <td>-0.486259</td>\n",
       "      <td>0.796646</td>\n",
       "    </tr>\n",
       "    <tr>\n",
       "      <th>5358</th>\n",
       "      <td>-0.750655</td>\n",
       "      <td>-0.341621</td>\n",
       "      <td>-0.347714</td>\n",
       "      <td>1.567655</td>\n",
       "      <td>0.049142</td>\n",
       "      <td>0.482935</td>\n",
       "      <td>0.780114</td>\n",
       "      <td>-0.380145</td>\n",
       "      <td>-0.234772</td>\n",
       "      <td>2.056518</td>\n",
       "      <td>-1.255263</td>\n",
       "    </tr>\n",
       "    <tr>\n",
       "      <th>5359</th>\n",
       "      <td>-0.750655</td>\n",
       "      <td>-0.320711</td>\n",
       "      <td>0.105532</td>\n",
       "      <td>1.567655</td>\n",
       "      <td>0.049142</td>\n",
       "      <td>1.817916</td>\n",
       "      <td>0.539803</td>\n",
       "      <td>-0.380145</td>\n",
       "      <td>-0.234772</td>\n",
       "      <td>-0.486259</td>\n",
       "      <td>0.796646</td>\n",
       "    </tr>\n",
       "  </tbody>\n",
       "</table>\n",
       "<p>5360 rows × 11 columns</p>\n",
       "</div>"
      ],
      "text/plain": [
       "            0         1         2         3         4         5         6   \\\n",
       "0     3.124114 -0.333099  1.012023 -1.387203  0.049142 -0.852047  0.780114   \n",
       "1    -0.750655  0.047153  0.105532 -0.402250  1.635894 -0.852047  1.260736   \n",
       "2    -0.750655 -0.340122 -0.800959  0.582702  0.049142  0.482935  0.539803   \n",
       "3     0.702383  0.009155 -0.800959 -0.402250 -1.537610 -0.852047 -2.343928   \n",
       "4     0.218037 -0.165925 -0.800959 -0.402250  0.049142  0.482935  0.059181   \n",
       "...        ...       ...       ...       ...       ...       ...       ...   \n",
       "5355  0.218037 -0.346859 -0.347714  1.567655  0.049142  0.482935 -1.382684   \n",
       "5356  0.218037 -0.340356 -1.254205  0.582702  0.049142 -0.852047  0.780114   \n",
       "5357 -0.750655 -0.305999 -1.254205  0.582702  0.049142 -0.852047  0.539803   \n",
       "5358 -0.750655 -0.341621 -0.347714  1.567655  0.049142  0.482935  0.780114   \n",
       "5359 -0.750655 -0.320711  0.105532  1.567655  0.049142  1.817916  0.539803   \n",
       "\n",
       "            7         8         9         10  \n",
       "0    -0.380145 -0.234772 -0.486259  0.796646  \n",
       "1    -0.380145 -0.234772 -0.486259 -1.255263  \n",
       "2    -0.380145  4.259443 -0.486259 -1.255263  \n",
       "3    -0.380145 -0.234772 -0.486259  0.796646  \n",
       "4    -0.380145 -0.234772  2.056518 -1.255263  \n",
       "...        ...       ...       ...       ...  \n",
       "5355 -0.380145 -0.234772 -0.486259  0.796646  \n",
       "5356 -0.380145 -0.234772 -0.486259  0.796646  \n",
       "5357 -0.380145 -0.234772 -0.486259  0.796646  \n",
       "5358 -0.380145 -0.234772  2.056518 -1.255263  \n",
       "5359 -0.380145 -0.234772 -0.486259  0.796646  \n",
       "\n",
       "[5360 rows x 11 columns]"
      ]
     },
     "execution_count": 230,
     "metadata": {},
     "output_type": "execute_result"
    }
   ],
   "source": [
    "pd.DataFrame(x_train_s)"
   ]
  },
  {
   "cell_type": "code",
   "execution_count": 229,
   "id": "blond-burden",
   "metadata": {},
   "outputs": [
    {
     "data": {
      "text/html": [
       "<div>\n",
       "<style scoped>\n",
       "    .dataframe tbody tr th:only-of-type {\n",
       "        vertical-align: middle;\n",
       "    }\n",
       "\n",
       "    .dataframe tbody tr th {\n",
       "        vertical-align: top;\n",
       "    }\n",
       "\n",
       "    .dataframe thead th {\n",
       "        text-align: right;\n",
       "    }\n",
       "</style>\n",
       "<table border=\"1\" class=\"dataframe\">\n",
       "  <thead>\n",
       "    <tr style=\"text-align: right;\">\n",
       "      <th></th>\n",
       "      <th>0</th>\n",
       "      <th>1</th>\n",
       "      <th>2</th>\n",
       "      <th>3</th>\n",
       "      <th>4</th>\n",
       "      <th>5</th>\n",
       "      <th>6</th>\n",
       "      <th>7</th>\n",
       "      <th>8</th>\n",
       "      <th>9</th>\n",
       "      <th>10</th>\n",
       "    </tr>\n",
       "  </thead>\n",
       "  <tbody>\n",
       "    <tr>\n",
       "      <th>0</th>\n",
       "      <td>1.000</td>\n",
       "      <td>0.000754</td>\n",
       "      <td>0.384615</td>\n",
       "      <td>0.000000</td>\n",
       "      <td>0.5</td>\n",
       "      <td>0.0</td>\n",
       "      <td>0.8125</td>\n",
       "      <td>0.0</td>\n",
       "      <td>0.0</td>\n",
       "      <td>0.0</td>\n",
       "      <td>1.0</td>\n",
       "    </tr>\n",
       "    <tr>\n",
       "      <th>1</th>\n",
       "      <td>0.000</td>\n",
       "      <td>0.011623</td>\n",
       "      <td>0.230769</td>\n",
       "      <td>0.333333</td>\n",
       "      <td>1.0</td>\n",
       "      <td>0.0</td>\n",
       "      <td>0.9375</td>\n",
       "      <td>0.0</td>\n",
       "      <td>0.0</td>\n",
       "      <td>0.0</td>\n",
       "      <td>0.0</td>\n",
       "    </tr>\n",
       "    <tr>\n",
       "      <th>2</th>\n",
       "      <td>0.000</td>\n",
       "      <td>0.000553</td>\n",
       "      <td>0.076923</td>\n",
       "      <td>0.666667</td>\n",
       "      <td>0.5</td>\n",
       "      <td>0.5</td>\n",
       "      <td>0.7500</td>\n",
       "      <td>0.0</td>\n",
       "      <td>1.0</td>\n",
       "      <td>0.0</td>\n",
       "      <td>0.0</td>\n",
       "    </tr>\n",
       "    <tr>\n",
       "      <th>3</th>\n",
       "      <td>0.375</td>\n",
       "      <td>0.010537</td>\n",
       "      <td>0.076923</td>\n",
       "      <td>0.333333</td>\n",
       "      <td>0.0</td>\n",
       "      <td>0.0</td>\n",
       "      <td>0.0000</td>\n",
       "      <td>0.0</td>\n",
       "      <td>0.0</td>\n",
       "      <td>0.0</td>\n",
       "      <td>1.0</td>\n",
       "    </tr>\n",
       "    <tr>\n",
       "      <th>4</th>\n",
       "      <td>0.250</td>\n",
       "      <td>0.005533</td>\n",
       "      <td>0.076923</td>\n",
       "      <td>0.333333</td>\n",
       "      <td>0.5</td>\n",
       "      <td>0.5</td>\n",
       "      <td>0.6250</td>\n",
       "      <td>0.0</td>\n",
       "      <td>0.0</td>\n",
       "      <td>1.0</td>\n",
       "      <td>0.0</td>\n",
       "    </tr>\n",
       "    <tr>\n",
       "      <th>...</th>\n",
       "      <td>...</td>\n",
       "      <td>...</td>\n",
       "      <td>...</td>\n",
       "      <td>...</td>\n",
       "      <td>...</td>\n",
       "      <td>...</td>\n",
       "      <td>...</td>\n",
       "      <td>...</td>\n",
       "      <td>...</td>\n",
       "      <td>...</td>\n",
       "      <td>...</td>\n",
       "    </tr>\n",
       "    <tr>\n",
       "      <th>5355</th>\n",
       "      <td>0.250</td>\n",
       "      <td>0.000361</td>\n",
       "      <td>0.153846</td>\n",
       "      <td>1.000000</td>\n",
       "      <td>0.5</td>\n",
       "      <td>0.5</td>\n",
       "      <td>0.2500</td>\n",
       "      <td>0.0</td>\n",
       "      <td>0.0</td>\n",
       "      <td>0.0</td>\n",
       "      <td>1.0</td>\n",
       "    </tr>\n",
       "    <tr>\n",
       "      <th>5356</th>\n",
       "      <td>0.250</td>\n",
       "      <td>0.000547</td>\n",
       "      <td>0.000000</td>\n",
       "      <td>0.666667</td>\n",
       "      <td>0.5</td>\n",
       "      <td>0.0</td>\n",
       "      <td>0.8125</td>\n",
       "      <td>0.0</td>\n",
       "      <td>0.0</td>\n",
       "      <td>0.0</td>\n",
       "      <td>1.0</td>\n",
       "    </tr>\n",
       "    <tr>\n",
       "      <th>5357</th>\n",
       "      <td>0.000</td>\n",
       "      <td>0.001529</td>\n",
       "      <td>0.000000</td>\n",
       "      <td>0.666667</td>\n",
       "      <td>0.5</td>\n",
       "      <td>0.0</td>\n",
       "      <td>0.7500</td>\n",
       "      <td>0.0</td>\n",
       "      <td>0.0</td>\n",
       "      <td>0.0</td>\n",
       "      <td>1.0</td>\n",
       "    </tr>\n",
       "    <tr>\n",
       "      <th>5358</th>\n",
       "      <td>0.000</td>\n",
       "      <td>0.000510</td>\n",
       "      <td>0.153846</td>\n",
       "      <td>1.000000</td>\n",
       "      <td>0.5</td>\n",
       "      <td>0.5</td>\n",
       "      <td>0.8125</td>\n",
       "      <td>0.0</td>\n",
       "      <td>0.0</td>\n",
       "      <td>1.0</td>\n",
       "      <td>0.0</td>\n",
       "    </tr>\n",
       "    <tr>\n",
       "      <th>5359</th>\n",
       "      <td>0.000</td>\n",
       "      <td>0.001108</td>\n",
       "      <td>0.230769</td>\n",
       "      <td>1.000000</td>\n",
       "      <td>0.5</td>\n",
       "      <td>1.0</td>\n",
       "      <td>0.7500</td>\n",
       "      <td>0.0</td>\n",
       "      <td>0.0</td>\n",
       "      <td>0.0</td>\n",
       "      <td>1.0</td>\n",
       "    </tr>\n",
       "  </tbody>\n",
       "</table>\n",
       "<p>5360 rows × 11 columns</p>\n",
       "</div>"
      ],
      "text/plain": [
       "         0         1         2         3    4    5       6    7    8    9   \\\n",
       "0     1.000  0.000754  0.384615  0.000000  0.5  0.0  0.8125  0.0  0.0  0.0   \n",
       "1     0.000  0.011623  0.230769  0.333333  1.0  0.0  0.9375  0.0  0.0  0.0   \n",
       "2     0.000  0.000553  0.076923  0.666667  0.5  0.5  0.7500  0.0  1.0  0.0   \n",
       "3     0.375  0.010537  0.076923  0.333333  0.0  0.0  0.0000  0.0  0.0  0.0   \n",
       "4     0.250  0.005533  0.076923  0.333333  0.5  0.5  0.6250  0.0  0.0  1.0   \n",
       "...     ...       ...       ...       ...  ...  ...     ...  ...  ...  ...   \n",
       "5355  0.250  0.000361  0.153846  1.000000  0.5  0.5  0.2500  0.0  0.0  0.0   \n",
       "5356  0.250  0.000547  0.000000  0.666667  0.5  0.0  0.8125  0.0  0.0  0.0   \n",
       "5357  0.000  0.001529  0.000000  0.666667  0.5  0.0  0.7500  0.0  0.0  0.0   \n",
       "5358  0.000  0.000510  0.153846  1.000000  0.5  0.5  0.8125  0.0  0.0  1.0   \n",
       "5359  0.000  0.001108  0.230769  1.000000  0.5  1.0  0.7500  0.0  0.0  0.0   \n",
       "\n",
       "       10  \n",
       "0     1.0  \n",
       "1     0.0  \n",
       "2     0.0  \n",
       "3     1.0  \n",
       "4     0.0  \n",
       "...   ...  \n",
       "5355  1.0  \n",
       "5356  1.0  \n",
       "5357  1.0  \n",
       "5358  0.0  \n",
       "5359  1.0  \n",
       "\n",
       "[5360 rows x 11 columns]"
      ]
     },
     "execution_count": 229,
     "metadata": {},
     "output_type": "execute_result"
    }
   ],
   "source": [
    "x_train_n"
   ]
  },
  {
   "cell_type": "markdown",
   "id": "czech-venice",
   "metadata": {},
   "source": [
    "# Linear Regression"
   ]
  },
  {
   "cell_type": "code",
   "execution_count": 231,
   "id": "assured-sellers",
   "metadata": {},
   "outputs": [],
   "source": [
    "from sklearn.linear_model import LinearRegression"
   ]
  },
  {
   "cell_type": "code",
   "execution_count": 232,
   "id": "certified-liabilities",
   "metadata": {},
   "outputs": [
    {
     "data": {
      "text/plain": [
       "LinearRegression()"
      ]
     },
     "execution_count": 232,
     "metadata": {},
     "output_type": "execute_result"
    }
   ],
   "source": [
    "multi_model=LinearRegression()\n",
    "multi_model.fit(x_train,y_train)"
   ]
  },
  {
   "cell_type": "code",
   "execution_count": 33,
   "id": "gentle-wallpaper",
   "metadata": {},
   "outputs": [],
   "source": [
    "from sklearn.metrics import r2_score, confusion_matrix,accuracy_score,roc_auc_score,recall_score"
   ]
  },
  {
   "cell_type": "code",
   "execution_count": 174,
   "id": "approximate-jason",
   "metadata": {},
   "outputs": [],
   "source": [
    "from sklearn.metrics import mean_squared_error\n",
    "from math import sqrt"
   ]
  },
  {
   "cell_type": "code",
   "execution_count": 234,
   "id": "under-newspaper",
   "metadata": {},
   "outputs": [],
   "source": [
    "y_pred=multi_model.predict(x_test)"
   ]
  },
  {
   "cell_type": "code",
   "execution_count": 235,
   "id": "hidden-marker",
   "metadata": {},
   "outputs": [
    {
     "data": {
      "text/plain": [
       "0.22489204368508853"
      ]
     },
     "execution_count": 235,
     "metadata": {},
     "output_type": "execute_result"
    }
   ],
   "source": [
    "r2_score(y_test,y_pred)"
   ]
  },
  {
   "cell_type": "markdown",
   "id": "protective-yacht",
   "metadata": {},
   "source": [
    "# Ridge"
   ]
  },
  {
   "cell_type": "code",
   "execution_count": 236,
   "id": "revised-speed",
   "metadata": {},
   "outputs": [],
   "source": [
    "from sklearn.linear_model import Ridge"
   ]
  },
  {
   "cell_type": "code",
   "execution_count": 237,
   "id": "coated-monster",
   "metadata": {},
   "outputs": [],
   "source": [
    "lm_r=Ridge(alpha=0.5)"
   ]
  },
  {
   "cell_type": "code",
   "execution_count": 238,
   "id": "nonprofit-moisture",
   "metadata": {},
   "outputs": [
    {
     "data": {
      "text/plain": [
       "Ridge(alpha=0.5)"
      ]
     },
     "execution_count": 238,
     "metadata": {},
     "output_type": "execute_result"
    }
   ],
   "source": [
    "lm_r.fit(x_train_s,y_train)"
   ]
  },
  {
   "cell_type": "code",
   "execution_count": 239,
   "id": "modern-cooling",
   "metadata": {},
   "outputs": [
    {
     "data": {
      "text/plain": [
       "0.22714941076466533"
      ]
     },
     "execution_count": 239,
     "metadata": {},
     "output_type": "execute_result"
    }
   ],
   "source": [
    "r2_score(y_test,lm_r.predict(x_test_s))"
   ]
  },
  {
   "cell_type": "code",
   "execution_count": 240,
   "id": "abroad-vintage",
   "metadata": {},
   "outputs": [
    {
     "data": {
      "text/plain": [
       "0.06294602232769508"
      ]
     },
     "execution_count": 240,
     "metadata": {},
     "output_type": "execute_result"
    }
   ],
   "source": [
    "lm_r=Ridge(alpha=0.5)\n",
    "\n",
    "lm_r.fit(x_train_n,y_train)\n",
    "\n",
    "r2_score(y_test,lm_r.predict(x_test_n))"
   ]
  },
  {
   "cell_type": "code",
   "execution_count": 241,
   "id": "compound-circuit",
   "metadata": {},
   "outputs": [],
   "source": [
    "from sklearn.model_selection import validation_curve"
   ]
  },
  {
   "cell_type": "code",
   "execution_count": 242,
   "id": "sticky-pierre",
   "metadata": {},
   "outputs": [],
   "source": [
    "param_range=np.logspace(-2,8,100)"
   ]
  },
  {
   "cell_type": "code",
   "execution_count": 243,
   "id": "tutorial-blues",
   "metadata": {},
   "outputs": [
    {
     "name": "stderr",
     "output_type": "stream",
     "text": [
      "C:\\Users\\B.THUSHAR\\anaconda3\\envs\\tf2_object_detection\\lib\\site-packages\\sklearn\\utils\\validation.py:70: FutureWarning: Pass param_name=alpha, param_range=[1.00000000e-02 1.26185688e-02 1.59228279e-02 2.00923300e-02\n",
      " 2.53536449e-02 3.19926714e-02 4.03701726e-02 5.09413801e-02\n",
      " 6.42807312e-02 8.11130831e-02 1.02353102e-01 1.29154967e-01\n",
      " 1.62975083e-01 2.05651231e-01 2.59502421e-01 3.27454916e-01\n",
      " 4.13201240e-01 5.21400829e-01 6.57933225e-01 8.30217568e-01\n",
      " 1.04761575e+00 1.32194115e+00 1.66810054e+00 2.10490414e+00\n",
      " 2.65608778e+00 3.35160265e+00 4.22924287e+00 5.33669923e+00\n",
      " 6.73415066e+00 8.49753436e+00 1.07226722e+01 1.35304777e+01\n",
      " 1.70735265e+01 2.15443469e+01 2.71858824e+01 3.43046929e+01\n",
      " 4.32876128e+01 5.46227722e+01 6.89261210e+01 8.69749003e+01\n",
      " 1.09749877e+02 1.38488637e+02 1.74752840e+02 2.20513074e+02\n",
      " 2.78255940e+02 3.51119173e+02 4.43062146e+02 5.59081018e+02\n",
      " 7.05480231e+02 8.90215085e+02 1.12332403e+03 1.41747416e+03\n",
      " 1.78864953e+03 2.25701972e+03 2.84803587e+03 3.59381366e+03\n",
      " 4.53487851e+03 5.72236766e+03 7.22080902e+03 9.11162756e+03\n",
      " 1.14975700e+04 1.45082878e+04 1.83073828e+04 2.31012970e+04\n",
      " 2.91505306e+04 3.67837977e+04 4.64158883e+04 5.85702082e+04\n",
      " 7.39072203e+04 9.32603347e+04 1.17681195e+05 1.48496826e+05\n",
      " 1.87381742e+05 2.36448941e+05 2.98364724e+05 3.76493581e+05\n",
      " 4.75081016e+05 5.99484250e+05 7.56463328e+05 9.54548457e+05\n",
      " 1.20450354e+06 1.51991108e+06 1.91791026e+06 2.42012826e+06\n",
      " 3.05385551e+06 3.85352859e+06 4.86260158e+06 6.13590727e+06\n",
      " 7.74263683e+06 9.77009957e+06 1.23284674e+07 1.55567614e+07\n",
      " 1.96304065e+07 2.47707636e+07 3.12571585e+07 3.94420606e+07\n",
      " 4.97702356e+07 6.28029144e+07 7.92482898e+07 1.00000000e+08] as keyword args. From version 1.0 (renaming of 0.25) passing these as positional arguments will result in an error\n",
      "  warnings.warn(f\"Pass {args_msg} as keyword args. From version \"\n"
     ]
    }
   ],
   "source": [
    "train_scores,test_scores=validation_curve(Ridge(),x_train_s,y_train,\"alpha\",param_range)"
   ]
  },
  {
   "cell_type": "code",
   "execution_count": 244,
   "id": "harmful-oliver",
   "metadata": {},
   "outputs": [],
   "source": [
    "train_mean=np.mean(train_scores,axis=1)\n",
    "test_mean=np.mean(test_scores,axis=1)"
   ]
  },
  {
   "cell_type": "code",
   "execution_count": 245,
   "id": "attached-december",
   "metadata": {},
   "outputs": [
    {
     "data": {
      "text/plain": [
       "<seaborn.axisgrid.JointGrid at 0x13897bf3d60>"
      ]
     },
     "execution_count": 245,
     "metadata": {},
     "output_type": "execute_result"
    },
    {
     "data": {
      "image/png": "[encoded data removed]",
      "text/plain": [
       "<Figure size 432x432 with 3 Axes>"
      ]
     },
     "metadata": {
      "needs_background": "light"
     },
     "output_type": "display_data"
    }
   ],
   "source": [
    "sns.jointplot(x=np.log(param_range),y=test_mean)"
   ]
  },
  {
   "cell_type": "code",
   "execution_count": 246,
   "id": "indoor-south",
   "metadata": {},
   "outputs": [
    {
     "data": {
      "text/plain": [
       "(array([49], dtype=int64),)"
      ]
     },
     "execution_count": 246,
     "metadata": {},
     "output_type": "execute_result"
    }
   ],
   "source": [
    "np.where(test_mean==max(test_mean))"
   ]
  },
  {
   "cell_type": "code",
   "execution_count": 247,
   "id": "residential-proposal",
   "metadata": {},
   "outputs": [
    {
     "data": {
      "text/plain": [
       "890.2150854450392"
      ]
     },
     "execution_count": 247,
     "metadata": {},
     "output_type": "execute_result"
    }
   ],
   "source": [
    "param_range[49]"
   ]
  },
  {
   "cell_type": "code",
   "execution_count": 248,
   "id": "ethical-reggae",
   "metadata": {},
   "outputs": [
    {
     "data": {
      "text/plain": [
       "Ridge(alpha=890)"
      ]
     },
     "execution_count": 248,
     "metadata": {},
     "output_type": "execute_result"
    }
   ],
   "source": [
    "lm_rid=Ridge(alpha=890)\n",
    "lm_rid.fit(x_train_s,y_train)"
   ]
  },
  {
   "cell_type": "code",
   "execution_count": 249,
   "id": "identical-stylus",
   "metadata": {},
   "outputs": [
    {
     "data": {
      "text/plain": [
       "0.2173030249550526"
      ]
     },
     "execution_count": 249,
     "metadata": {},
     "output_type": "execute_result"
    }
   ],
   "source": [
    "r2_score(y_test,lm_rid.predict(x_test_s))"
   ]
  },
  {
   "cell_type": "markdown",
   "id": "egyptian-fitness",
   "metadata": {},
   "source": [
    "# KNN"
   ]
  },
  {
   "cell_type": "code",
   "execution_count": 250,
   "id": "upset-reasoning",
   "metadata": {},
   "outputs": [],
   "source": [
    "from sklearn.neighbors import KNeighborsRegressor\n",
    "clf_knn_1 = KNeighborsRegressor(n_neighbors=1)"
   ]
  },
  {
   "cell_type": "code",
   "execution_count": 251,
   "id": "neither-rainbow",
   "metadata": {},
   "outputs": [
    {
     "data": {
      "text/plain": [
       "KNeighborsRegressor(n_neighbors=1)"
      ]
     },
     "execution_count": 251,
     "metadata": {},
     "output_type": "execute_result"
    }
   ],
   "source": [
    "clf_knn_1.fit(x_train_s, y_train)"
   ]
  },
  {
   "cell_type": "code",
   "execution_count": 252,
   "id": "cellular-appointment",
   "metadata": {},
   "outputs": [
    {
     "data": {
      "text/plain": [
       "0.10857646366726126"
      ]
     },
     "execution_count": 252,
     "metadata": {},
     "output_type": "execute_result"
    }
   ],
   "source": [
    "r2_score(y_test,clf_knn_1.predict(x_test_s))"
   ]
  },
  {
   "cell_type": "code",
   "execution_count": 253,
   "id": "subtle-arbitration",
   "metadata": {},
   "outputs": [
    {
     "data": {
      "text/plain": [
       "-0.16232403202912726"
      ]
     },
     "execution_count": 253,
     "metadata": {},
     "output_type": "execute_result"
    }
   ],
   "source": [
    "\n",
    "clf_knn_1 = KNeighborsRegressor(n_neighbors=1)\n",
    "\n",
    "clf_knn_1.fit(x_train_n, y_train)\n",
    "\n",
    "r2_score(y_test,clf_knn_1.predict(x_test_n))"
   ]
  },
  {
   "cell_type": "code",
   "execution_count": 254,
   "id": "original-pennsylvania",
   "metadata": {},
   "outputs": [],
   "source": [
    "from sklearn.model_selection import GridSearchCV\n",
    "params = {'n_neighbors': [1, 2, 3, 4, 5, 6, 7, 8, 9, 10, 20,30]}\n",
    "grid_search_cv = GridSearchCV(KNeighborsRegressor(), params)"
   ]
  },
  {
   "cell_type": "code",
   "execution_count": 255,
   "id": "hourly-capture",
   "metadata": {},
   "outputs": [
    {
     "data": {
      "text/plain": [
       "GridSearchCV(estimator=KNeighborsRegressor(),\n",
       "             param_grid={'n_neighbors': [1, 2, 3, 4, 5, 6, 7, 8, 9, 10, 20,\n",
       "                                         30]})"
      ]
     },
     "execution_count": 255,
     "metadata": {},
     "output_type": "execute_result"
    }
   ],
   "source": [
    "grid_search_cv.fit(x_train_s, y_train)"
   ]
  },
  {
   "cell_type": "code",
   "execution_count": 256,
   "id": "connected-texture",
   "metadata": {},
   "outputs": [
    {
     "data": {
      "text/plain": [
       "{'n_neighbors': 10}"
      ]
     },
     "execution_count": 256,
     "metadata": {},
     "output_type": "execute_result"
    }
   ],
   "source": [
    "grid_search_cv.best_params_\n",
    "\n"
   ]
  },
  {
   "cell_type": "code",
   "execution_count": 257,
   "id": "pressing-picture",
   "metadata": {},
   "outputs": [],
   "source": [
    "optimised_KNN = grid_search_cv.best_estimator_\n",
    "\n",
    "y_test_pred = optimised_KNN.predict(x_test_s) "
   ]
  },
  {
   "cell_type": "code",
   "execution_count": 258,
   "id": "matched-participation",
   "metadata": {},
   "outputs": [
    {
     "data": {
      "text/plain": [
       "0.32007703098556184"
      ]
     },
     "execution_count": 258,
     "metadata": {},
     "output_type": "execute_result"
    }
   ],
   "source": [
    "r2_score(y_test,y_test_pred)"
   ]
  },
  {
   "cell_type": "markdown",
   "id": "figured-comedy",
   "metadata": {},
   "source": [
    "# Decision Tree"
   ]
  },
  {
   "cell_type": "code",
   "execution_count": 268,
   "id": "virtual-minority",
   "metadata": {},
   "outputs": [],
   "source": [
    "from sklearn import tree\n",
    "clftree = tree.DecisionTreeRegressor(max_depth = 15)"
   ]
  },
  {
   "cell_type": "code",
   "execution_count": 269,
   "id": "delayed-pitch",
   "metadata": {},
   "outputs": [
    {
     "data": {
      "text/plain": [
       "DecisionTreeRegressor(max_depth=15)"
      ]
     },
     "execution_count": 269,
     "metadata": {},
     "output_type": "execute_result"
    }
   ],
   "source": [
    "clftree.fit(x_train, y_train)"
   ]
  },
  {
   "cell_type": "code",
   "execution_count": 270,
   "id": "local-correspondence",
   "metadata": {},
   "outputs": [
    {
     "data": {
      "text/plain": [
       "0.23882475618379384"
      ]
     },
     "execution_count": 270,
     "metadata": {},
     "output_type": "execute_result"
    }
   ],
   "source": [
    "r2_score(y_test,clftree.predict(x_test) )"
   ]
  },
  {
   "cell_type": "markdown",
   "id": "ethical-alabama",
   "metadata": {},
   "source": [
    "# Random"
   ]
  },
  {
   "cell_type": "code",
   "execution_count": 271,
   "id": "vital-objective",
   "metadata": {},
   "outputs": [],
   "source": [
    "from sklearn.ensemble import RandomForestRegressor"
   ]
  },
  {
   "cell_type": "code",
   "execution_count": 272,
   "id": "laughing-distinction",
   "metadata": {},
   "outputs": [
    {
     "data": {
      "text/plain": [
       "RandomForestRegressor(n_estimators=1000, n_jobs=-1, random_state=42)"
      ]
     },
     "execution_count": 272,
     "metadata": {},
     "output_type": "execute_result"
    }
   ],
   "source": [
    "from sklearn.model_selection import GridSearchCV\n",
    "\n",
    "rf_clf = RandomForestRegressor(n_estimators=1000, n_jobs=-1 ,random_state=42)\n",
    "\n",
    "rf_clf.fit(x_train, y_train)"
   ]
  },
  {
   "cell_type": "code",
   "execution_count": 273,
   "id": "amber-singapore",
   "metadata": {},
   "outputs": [
    {
     "data": {
      "text/plain": [
       "0.5306494743069752"
      ]
     },
     "execution_count": 273,
     "metadata": {},
     "output_type": "execute_result"
    }
   ],
   "source": [
    "r2_score(y_test,rf_clf.predict(x_test) )"
   ]
  },
  {
   "cell_type": "code",
   "execution_count": 274,
   "id": "distinct-hearing",
   "metadata": {},
   "outputs": [],
   "source": [
    "params_grid = {\"max_features\" : [9,10,11,12,13,14],\n",
    "              \"min_samples_split\": [5,9, 11],\n",
    "              }"
   ]
  },
  {
   "cell_type": "code",
   "execution_count": 275,
   "id": "laughing-meaning",
   "metadata": {},
   "outputs": [],
   "source": [
    "grid_search = GridSearchCV(rf_clf, params_grid,\n",
    "                           n_jobs=-1, cv=5)"
   ]
  },
  {
   "cell_type": "code",
   "execution_count": 276,
   "id": "simplified-origin",
   "metadata": {},
   "outputs": [
    {
     "name": "stderr",
     "output_type": "stream",
     "text": [
      "C:\\Users\\B.THUSHAR\\anaconda3\\envs\\tf2_object_detection\\lib\\site-packages\\sklearn\\model_selection\\_search.py:918: UserWarning: One or more of the test scores are non-finite: [0.62285863 0.61271119 0.60713433 0.59245231 0.59047593 0.58556847\n",
      " 0.57487235 0.57203969 0.57053815        nan        nan        nan\n",
      "        nan        nan        nan        nan        nan        nan]\n",
      "  warnings.warn(\n"
     ]
    },
    {
     "data": {
      "text/plain": [
       "GridSearchCV(cv=5,\n",
       "             estimator=RandomForestRegressor(n_estimators=1000, n_jobs=-1,\n",
       "                                             random_state=42),\n",
       "             n_jobs=-1,\n",
       "             param_grid={'max_features': [9, 10, 11, 12, 13, 14],\n",
       "                         'min_samples_split': [5, 9, 11]})"
      ]
     },
     "execution_count": 276,
     "metadata": {},
     "output_type": "execute_result"
    }
   ],
   "source": [
    "grid_search.fit(x_train, y_train)"
   ]
  },
  {
   "cell_type": "code",
   "execution_count": 277,
   "id": "guilty-belarus",
   "metadata": {},
   "outputs": [
    {
     "data": {
      "text/plain": [
       "{'max_features': 9, 'min_samples_split': 5}"
      ]
     },
     "execution_count": 277,
     "metadata": {},
     "output_type": "execute_result"
    }
   ],
   "source": [
    "grid_search.best_params_ "
   ]
  },
  {
   "cell_type": "code",
   "execution_count": 278,
   "id": "operating-patrol",
   "metadata": {},
   "outputs": [],
   "source": [
    "cvrf_clf = grid_search.best_estimator_"
   ]
  },
  {
   "cell_type": "code",
   "execution_count": 279,
   "id": "handed-happening",
   "metadata": {},
   "outputs": [
    {
     "data": {
      "text/plain": [
       "0.5586586580610743"
      ]
     },
     "execution_count": 279,
     "metadata": {},
     "output_type": "execute_result"
    }
   ],
   "source": [
    "r2_score(y_test,cvrf_clf.predict(x_test) )"
   ]
  },
  {
   "cell_type": "markdown",
   "id": "christian-curtis",
   "metadata": {},
   "source": [
    "# x_gboost"
   ]
  },
  {
   "cell_type": "code",
   "execution_count": 280,
   "id": "billion-chapter",
   "metadata": {},
   "outputs": [],
   "source": [
    "\n",
    "import xgboost as xgb"
   ]
  },
  {
   "cell_type": "code",
   "execution_count": 296,
   "id": "medical-timer",
   "metadata": {},
   "outputs": [],
   "source": [
    "xgb_clf = xgb.XGBRegressor(max_depth=12, n_estimators=1000, learning_rate=0.3,\n",
    "                            n_jobs=-1)"
   ]
  },
  {
   "cell_type": "code",
   "execution_count": 297,
   "id": "small-admission",
   "metadata": {},
   "outputs": [
    {
     "data": {
      "text/plain": [
       "XGBRegressor(base_score=0.5, booster='gbtree', colsample_bylevel=1,\n",
       "             colsample_bynode=1, colsample_bytree=1, gamma=0, gpu_id=-1,\n",
       "             importance_type='gain', interaction_constraints='',\n",
       "             learning_rate=0.3, max_delta_step=0, max_depth=12,\n",
       "             min_child_weight=1, missing=nan, monotone_constraints='()',\n",
       "             n_estimators=1000, n_jobs=-1, num_parallel_tree=1, random_state=0,\n",
       "             reg_alpha=0, reg_lambda=1, scale_pos_weight=1, subsample=1,\n",
       "             tree_method='exact', validate_parameters=1, verbosity=None)"
      ]
     },
     "execution_count": 297,
     "metadata": {},
     "output_type": "execute_result"
    }
   ],
   "source": [
    "xgb_clf.fit(x_train_s, y_train)"
   ]
  },
  {
   "cell_type": "code",
   "execution_count": 298,
   "id": "formal-february",
   "metadata": {},
   "outputs": [
    {
     "data": {
      "text/plain": [
       "0.6284801709754142"
      ]
     },
     "execution_count": 298,
     "metadata": {},
     "output_type": "execute_result"
    }
   ],
   "source": [
    "r2_score(y_test,xgb_clf.predict(x_test_s) )"
   ]
  },
  {
   "cell_type": "code",
   "execution_count": 334,
   "id": "checked-lighting",
   "metadata": {},
   "outputs": [],
   "source": [
    "xgb_clf = xgb.XGBRegressor(n_estimators=1000,learning_rate=0.2,reg_alpha=0.1,subsample=0.8,colsample_bytree=1,max_depth=3,)"
   ]
  },
  {
   "cell_type": "code",
   "execution_count": 335,
   "id": "permanent-albania",
   "metadata": {},
   "outputs": [],
   "source": [
    "param_test1 = {\n",
    "    'gamma' : [0.5,0.6,0.7,0.8]}"
   ]
  },
  {
   "cell_type": "code",
   "execution_count": 336,
   "id": "other-manhattan",
   "metadata": {},
   "outputs": [],
   "source": [
    "from sklearn.model_selection import GridSearchCV"
   ]
  },
  {
   "cell_type": "code",
   "execution_count": 337,
   "id": "engaging-amsterdam",
   "metadata": {},
   "outputs": [],
   "source": [
    "grid_search = GridSearchCV(xgb_clf, param_test1,\n",
    "                            cv=5)"
   ]
  },
  {
   "cell_type": "code",
   "execution_count": 338,
   "id": "vocational-makeup",
   "metadata": {},
   "outputs": [
    {
     "data": {
      "text/plain": [
       "GridSearchCV(cv=5,\n",
       "             estimator=XGBRegressor(base_score=None, booster=None,\n",
       "                                    colsample_bylevel=None,\n",
       "                                    colsample_bynode=None, colsample_bytree=1,\n",
       "                                    gamma=None, gpu_id=None,\n",
       "                                    importance_type='gain',\n",
       "                                    interaction_constraints=None,\n",
       "                                    learning_rate=0.2, max_delta_step=None,\n",
       "                                    max_depth=3, min_child_weight=None,\n",
       "                                    missing=nan, monotone_constraints=None,\n",
       "                                    n_estimators=1000, n_jobs=None,\n",
       "                                    num_parallel_tree=None, random_state=None,\n",
       "                                    reg_alpha=0.1, reg_lambda=None,\n",
       "                                    scale_pos_weight=None, subsample=0.8,\n",
       "                                    tree_method=None, validate_parameters=None,\n",
       "                                    verbosity=None),\n",
       "             param_grid={'gamma': [0.5, 0.6, 0.7, 0.8]})"
      ]
     },
     "execution_count": 338,
     "metadata": {},
     "output_type": "execute_result"
    }
   ],
   "source": [
    "grid_search.fit(x_train, y_train)"
   ]
  },
  {
   "cell_type": "code",
   "execution_count": 339,
   "id": "serial-solomon",
   "metadata": {},
   "outputs": [
    {
     "data": {
      "text/plain": [
       "XGBRegressor(base_score=0.5, booster='gbtree', colsample_bylevel=1,\n",
       "             colsample_bynode=1, colsample_bytree=1, gamma=0.5, gpu_id=-1,\n",
       "             importance_type='gain', interaction_constraints='',\n",
       "             learning_rate=0.2, max_delta_step=0, max_depth=3,\n",
       "             min_child_weight=1, missing=nan, monotone_constraints='()',\n",
       "             n_estimators=1000, n_jobs=8, num_parallel_tree=1, random_state=0,\n",
       "             reg_alpha=0.1, reg_lambda=1, scale_pos_weight=1, subsample=0.8,\n",
       "             tree_method='exact', validate_parameters=1, verbosity=None)"
      ]
     },
     "execution_count": 339,
     "metadata": {},
     "output_type": "execute_result"
    }
   ],
   "source": [
    "grid_search.best_estimator_"
   ]
  },
  {
   "cell_type": "code",
   "execution_count": 340,
   "id": "challenging-origin",
   "metadata": {},
   "outputs": [],
   "source": [
    "cvxg_clf = grid_search.best_estimator_"
   ]
  },
  {
   "cell_type": "code",
   "execution_count": 341,
   "id": "typical-wireless",
   "metadata": {},
   "outputs": [
    {
     "data": {
      "text/plain": [
       "0.6658235746935517"
      ]
     },
     "execution_count": 341,
     "metadata": {},
     "output_type": "execute_result"
    }
   ],
   "source": [
    "r2_score(y_test,cvxg_clf.predict(x_test) )"
   ]
  },
  {
   "cell_type": "markdown",
   "id": "saving-ivory",
   "metadata": {},
   "source": [
    "Finally found xg boost as best algorithm"
   ]
  },
  {
   "cell_type": "code",
   "execution_count": null,
   "id": "whole-drilling",
   "metadata": {},
   "outputs": [],
   "source": []
  }
 ],
 "metadata": {
  "kernelspec": {
   "display_name": "Python 3",
   "language": "python",
   "name": "python3"
  },
  "language_info": {
   "codemirror_mode": {
    "name": "ipython",
    "version": 3
   },
   "file_extension": ".py",
   "mimetype": "text/x-python",
   "name": "python",
   "nbconvert_exporter": "python",
   "pygments_lexer": "ipython3",
   "version": "3.8.5"
  }
 },
 "nbformat": 4,
 "nbformat_minor": 5
}
